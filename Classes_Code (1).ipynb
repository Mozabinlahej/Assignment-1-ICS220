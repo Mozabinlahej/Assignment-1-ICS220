{
  "nbformat": 4,
  "nbformat_minor": 0,
  "metadata": {
    "colab": {
      "provenance": []
    },
    "kernelspec": {
      "name": "python3",
      "display_name": "Python 3"
    },
    "language_info": {
      "name": "python"
    }
  },
  "cells": [
    {
      "cell_type": "code",
      "execution_count": null,
      "metadata": {
        "id": "mit3nLYlsVvo",
        "colab": {
          "base_uri": "https://localhost:8080/"
        },
        "outputId": "5a4db7ab-52d8-4a2b-c945-5ae67fe3ebe5"
      },
      "outputs": [
        {
          "output_type": "stream",
          "name": "stdout",
          "text": [
            "Service Name: Diagnostics Service Quantity: 1 Service Price: 15 Mechanic Name: Hans K Date: 2022-03-13 00:00:00\n",
            "Service Name: Oil Replacement Service Quantity: 1 Service Price: 120 Mechanic Name: Hans K Date: 2022-03-13 00:00:00\n",
            "Service Name: Oil Filter Parts Service Quantity: 2 Service Price: 35 Mechanic Name: Hans K Date: 2022-03-13 00:00:00\n",
            "Service Name: Tire Replacement Service Quantity: 2 Service Price: 100 Mechanic Name: Hans K Date: 2022-03-13 00:00:00\n",
            "Service Name: Tire Service Quantity: 2 Service Price: 160 Mechanic Name: Hans K Date: 2022-03-13\n",
            "Taxes: 21.5\n",
            "Total: 451.5\n",
            "Discount: 11.5\n",
            "Final Amount: 440.0\n"
          ]
        }
      ],
      "source": [
        "import datetime \n",
        "class GarageServices:#defines a class called GarageService which has attributes for a service's name ,  quantity, servicePrice , mechanicName  , and date.\n",
        "\n",
        "    def __init__(self,serviceName, quantity,servicePrice, mechanicName, date):\n",
        "        self.serviceName = serviceName\n",
        "        self.quantity = quantity\n",
        "        self.servicePrice = servicePrice\n",
        "        self.mechanicName = mechanicName\n",
        "        self.date = date\n",
        "        \n",
        "    def setServiceName(self,serviceName):#defines setters and getter functions for each attribute\n",
        "        self.serviceName = serviceName\n",
        "    def getServiceName(self):\n",
        "        return self.serviceName\n",
        "    def setQuantity(self, quantity):\n",
        "        self.quantity = quantity\n",
        "    def getQuantity(self):\n",
        "        return self.quantity\n",
        "    def setServicePrice(self,servicePrice):\n",
        "        self.servicePrice = servicePrice\n",
        "    def getServicePrice(self):\n",
        "        return self.servicePrice\n",
        "    def setMechanicName(self,mechanicName):\n",
        "      self.mechanicName = mechanicName\n",
        "    def getMechanicName(self):\n",
        "      return self.mechanicName\n",
        "    def setDate(self,date):\n",
        "      selfdate = date\n",
        "    def getDate(self):\n",
        "      return self.date\n",
        "    def FinalAmount(self):#defines final amount function that multiples each serviceprice by the quantity and returns total price\n",
        "      total_price = self.servicePrice * self.quantity\n",
        "      return total_price\n",
        "    def displayAllInfo(self):#function that display all info at once\n",
        "      print(\"Service Name:\", self.serviceName,\"Service Quantity:\", self.quantity,\"Service Price:\", self.servicePrice,\"Mechanic Name:\", self.mechanicName,\"Date:\", self.date)\n",
        "#creates object for each service listed in the receipt       \n",
        "Service1 = GarageServices(\"Diagnostics\",1,15,\"Hans K\",datetime.datetime(2022, 3, 13))\n",
        "Service2 = GarageServices(\"Oil Replacement\",1,120,\"Hans K\",datetime.datetime(2022, 3, 13))\n",
        "Service3 = GarageServices(\"Oil Filter Parts\",2,35,\"Hans K\",datetime.datetime(2022, 3, 13))\n",
        "Service4 = GarageServices(\"Tire Replacement\",2,100,\"Hans K\",datetime.datetime(2022, 3, 13))\n",
        "Service5 = GarageServices(\"Tire\",2,160,\"Hans K\",datetime.date(2022, 3, 13))\n",
        "total_prices = Service1.getServicePrice() +Service2.getServicePrice()+Service3.getServicePrice()+Service4.getServicePrice()+Service5.getServicePrice()#adds each service price\n",
        "tax = (total_prices) * 0.05 #calculates the tac\n",
        "priceAfterTax = total_prices + tax #adds the tax to total price\n",
        "applyDiscount = (priceAfterTax)*(11.5/451.5)#applies discount to price\n",
        "finalAmount = priceAfterTax - applyDiscount#minuses discount from price\n",
        "#displays each service info and prints tax,discount, and final amount.\n",
        "Service1.displayAllInfo(),\n",
        "Service2.displayAllInfo(),\n",
        "Service3.displayAllInfo(),\n",
        "Service4.displayAllInfo(),\n",
        "Service5.displayAllInfo(),\n",
        "print(\"Taxes:\",tax)\n",
        "print(\"Total:\",priceAfterTax)\n",
        "print(\"Discount:\",applyDiscount)\n",
        "print(\"Final Amount:\",finalAmount)\n",
        "\n",
        "\n",
        "\n",
        "\n"
      ]
    },
    {
      "cell_type": "code",
      "source": [
        "import enum\n",
        "from enum import Enum\n",
        "#creates Enum class for color and make which sets values for each one.allows easy accessibility \n",
        "class VehicleColor(Enum):\n",
        "    Red = 1\n",
        "    Blue = 2\n",
        "    Green = 3\n",
        "    Black = 4\n",
        "    Grey = 5\n",
        "    White = 6\n",
        "    Brown = 7\n",
        "    Yellow = 8\n",
        "    Silver = 9\n",
        "    Purple = 10\n",
        "class VehicleMake(Enum):\n",
        "  Nissan = 1\n",
        "  Mercedes = 2\n",
        "  BMW = 3\n",
        "  Tesla = 4\n",
        "  Ferrari = 5\n",
        "  Lamborgini = 6\n",
        "  Audi = 7 \n",
        "  Bentley = 8 \n",
        "  Cadilac = 9 \n",
        "  Chevrolet = 10\n",
        "\n",
        "class Vehicle:#creates Vehicle class that has attributes vehicleID,vehicleColor,vehicleMake,vehicleType,vehicleYear\n",
        "    def __init__(self,vehicleID=\"\",vehicleColor = VehicleColor.Black,vehicleMake= VehicleMake.Tesla,vehicleType=\"\",vehicleYear=2000):\n",
        "        self.vehicleID = vehicleID\n",
        "        self.vehicleColor = vehicleColor\n",
        "        self.vehicleMake = vehicleMake\n",
        "        self.vehicleType = vehicleType\n",
        "        self.vehicleYear = vehicleYear\n",
        "    def setVehicleID(self,vehicleID):#defines setters and getters for each attribute \n",
        "        self.vehicleID = vehicleID\n",
        "    def getVehicleID(self):\n",
        "        return self.vehicleID\n",
        "    def setVehicleColor(self,vehicleColor):\n",
        "        self.vehicleColor = vehicleColor\n",
        "    def getVehicleColor(self):\n",
        "        return self.vehicleColor.name\n",
        "    def setVehicleMake(self, vehiclemake):\n",
        "        self.vehicleMake = vehicleMake.name\n",
        "    def getVehicleMake(self):\n",
        "        return self.vehicleMake\n",
        "    def setVehicleType(self, vehicleType):\n",
        "        self.vehicleType = vehicleType\n",
        "    def getVehicleType(self):\n",
        "        return self.vehicleType\n",
        "    def setVehicleYear(self, vehicleYear):\n",
        "        self.vehicleYear = vehicleYear\n",
        "    def getVehicleYear(self):\n",
        "        return self.vehicleYear\n",
        "    def displayVehicleInfo(self):#defines function that prints all vehic;=le info and once\n",
        "          print(\"Vehicle ID: \",self.vehicleID ,\", Vehicle Color: \", self.vehicleColor.name, \", Vehicle Make: \",self.vehicleMake.name,\", Vehicle Type: \",self.vehicleType,\", Vehicle Year: \",str(self.vehicleYear))\n",
        "Vehicle1 = Vehicle(\"AD-89034\",VehicleColor.Silver,VehicleMake.Nissan,\"Altima\",2014)\n",
        "Vehicle1.displayVehicleInfo()"
      ],
      "metadata": {
        "id": "Wj0DVVv7Vjqt",
        "colab": {
          "base_uri": "https://localhost:8080/"
        },
        "outputId": "c2337da6-b14a-46f8-fd3b-483c1c3499de"
      },
      "execution_count": 32,
      "outputs": [
        {
          "output_type": "stream",
          "name": "stdout",
          "text": [
            "Vehicle ID:  AD-89034 , Vehicle Color:  Silver , Vehicle Make:  Nissan , Vehicle Type:  Altima , Vehicle Year:  2014\n"
          ]
        }
      ]
    },
    {
      "cell_type": "code",
      "source": [
        "class DriveType:#creates Enum class for driveType attribute \n",
        "  FrontWheelDrive = \"Front Wheel Drive\"\n",
        "  RearWheelDrive = \"Rear Wheel Drive\"\n",
        "  AllWheelDrive = \"All Wheel Drive\"\n",
        "\n",
        "class Car(Vehicle):#creates car class that inherits attributes, setters, getters,and functions from vehicle class\n",
        "  def __init__(self,vehicleID,vehicleColor,vehicleMake,vehicleType,vehicleYear, numberOfSeats, driveType):#constructor with vehicle attributes as well as additional attributes \n",
        "    Vehicle.__init__(self,vehicleID,vehicleColor,vehicleMake,vehicleType,vehicleYear)#calls the previous class with the attributes\n",
        "    self.numberOfSeats = numberOfSeats\n",
        "    self.driveType = driveType\n",
        "  def setNumberOfSeats(self,numberOfSeats):#creates setters and getters for the additional attributes\n",
        "    self.numberOfSeats = numberOfSeats\n",
        "  def getNumberOfSeats(self):\n",
        "    return self.numberOfSeats\n",
        "  def setDriveType(self,driveType):\n",
        "    self.driveType = driveType.name\n",
        "  def getDriveType(self):\n",
        "    return self.driveType\n",
        "  def displayVehicleInfo(self):#creates function for displaying vehicle info and uses teh super method to call the vehicle class amd adds the additional attribtues\n",
        "     print(super().displayVehicleInfo(),\"Number of seats:\", self.numberOfSeats,\"Drive Type:\",self.driveType)\n",
        "Car1 = Car(\"AD-89034\",VehicleColor.Silver,VehicleMake.Nissan,\"Altima\",2014, 5, DriveType.FrontWheelDrive)\n",
        "Car1.displayVehicleInfo()"
      ],
      "metadata": {
        "id": "34W0EPwKjBC7",
        "colab": {
          "base_uri": "https://localhost:8080/"
        },
        "outputId": "86a81112-3680-4537-8542-c90b5f951964"
      },
      "execution_count": 33,
      "outputs": [
        {
          "output_type": "stream",
          "name": "stdout",
          "text": [
            "Vehicle ID:  AD-89034 , Vehicle Color:  Silver , Vehicle Make:  Nissan , Vehicle Type:  Altima , Vehicle Year:  2014\n",
            "None Number of seats: 5 Drive Type: Front Wheel Drive\n"
          ]
        }
      ]
    },
    {
      "cell_type": "code",
      "source": [
        "class Customer:#defines a class called Customer which has attributes for a customer's first name, middle initial, last name, cell phone number, and email address.\n",
        "  def __init__(self,firstName=\"\",middleInitial=\"\", lastName=\"\",cellPhoneNumber=\"\",email=\"\"):\n",
        "    self.firstName = firstName\n",
        "    self.middleInitial = middleInitial \n",
        "    self.lastName = lastName \n",
        "    self.cellPhoneNumber = cellPhoneNumber\n",
        "    self.email = email\n",
        "\n",
        "  def setFirstName(self,firstName):#defines setters and getters for each attributes\n",
        "    self.firstName = firstName\n",
        "  def getFirstName(self):\n",
        "    return self.firstName\n",
        "  def setMiddleInitial(self,middleInitial):\n",
        "    self.middleInitial = middleInitial\n",
        "  def getMiddleInitial(self):\n",
        "    return self.middleInitial\n",
        "  def getLastName(self):\n",
        "    return self.lastName\n",
        "  def setCellPhoneNumber(self,cellPhoneNumber):\n",
        "    self.cellPhoneNumber = cellPhoneNumber\n",
        "  def getCellPhoneNumber(self):\n",
        "    return self.cellPhoneNumber\n",
        "  def setEmail(self, email):\n",
        "    self.email = email \n",
        "  def getEmail(self):\n",
        "    return self.email \n",
        "  def __str__(self):#defines str function that returns all the attributes at once\n",
        "    return \"First Name:\"+self.firstName+ \",Middle Initial:\" +self.middleInitial+ \",Last Name:\"  +self.lastName+ \",Cell Phone Number:\" +self.cellPhoneNumber+ \",Email:\" +self.email\n",
        "#creates object with setting values for each attributes  \n",
        "Customer1 = Customer(\"James\",\"W.\",\"Jones\",\"816-897-9862\",\"JamesWJones@gmail.com\")\n",
        "print(Customer1)\n",
        "\n",
        "\n",
        "  \n",
        "\n",
        "  \n",
        "  \n",
        "\n"
      ],
      "metadata": {
        "id": "nnHM-Of9Vt1z",
        "colab": {
          "base_uri": "https://localhost:8080/"
        },
        "outputId": "c9846961-f5c3-48aa-cef6-92cd1d4b2a0c"
      },
      "execution_count": null,
      "outputs": [
        {
          "output_type": "stream",
          "name": "stdout",
          "text": [
            "First Name:James,Middle Initial:W.,Last Name:Jones,Cell Phone Number816-897-9862,Email:JamesWJones@gmail.com\n"
          ]
        }
      ]
    }
  ]
}